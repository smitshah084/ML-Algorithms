{
 "cells": [
  {
   "cell_type": "code",
   "execution_count": 5,
   "id": "c6a9f1f8",
   "metadata": {},
   "outputs": [
    {
     "data": {
      "text/plain": [
       "Value(data=18)"
      ]
     },
     "execution_count": 5,
     "metadata": {},
     "output_type": "execute_result"
    }
   ],
   "source": [
    "class Value:\n",
    "    \n",
    "    def __init__(self,data,children):\n",
    "        self.data = data\n",
    "        \n",
    "    def __repr__(self):\n",
    "        return f\"Value(data={self.data})\"\n",
    "    \n",
    "    def __add__(self,other):\n",
    "        return Value(self.data+other.data)\n",
    "    \n",
    "    def __mul__(self,other):\n",
    "        return Value(self.data*other.data)\n",
    "    \n",
    "#     def __add__(self,other):\n",
    "#         return Value(self.data+other.data)\n",
    "    \n",
    "a = Value(3)\n",
    "b = Value(5)\n",
    "\n",
    "a*b + a"
   ]
  },
  {
   "cell_type": "code",
   "execution_count": null,
   "id": "6d081ebd",
   "metadata": {},
   "outputs": [],
   "source": []
  }
 ],
 "metadata": {
  "kernelspec": {
   "display_name": "Python 3 (ipykernel)",
   "language": "python",
   "name": "python3"
  },
  "language_info": {
   "codemirror_mode": {
    "name": "ipython",
    "version": 3
   },
   "file_extension": ".py",
   "mimetype": "text/x-python",
   "name": "python",
   "nbconvert_exporter": "python",
   "pygments_lexer": "ipython3",
   "version": "3.11.4"
  }
 },
 "nbformat": 4,
 "nbformat_minor": 5
}
