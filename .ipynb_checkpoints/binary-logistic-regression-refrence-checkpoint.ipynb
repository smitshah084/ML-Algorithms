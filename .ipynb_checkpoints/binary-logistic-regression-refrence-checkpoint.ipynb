{
 "cells": [
  {
   "cell_type": "markdown",
   "metadata": {
    "_cell_guid": "0bf669ae-359e-9db0-fa2a-4bf21699e39f"
   },
   "source": [
    "I manually manipulated the Titanic competition dataset to be better suited for binary logistic regression."
   ]
  },
  {
   "cell_type": "code",
   "execution_count": 1,
   "metadata": {
    "_cell_guid": "94b736ec-22fe-4fdd-609e-fa52ee6180fc"
   },
   "outputs": [],
   "source": [
    "# Importing the required libraries (plus no heavy use of scikit-learn):\n",
    "\n",
    "import numpy as np\n",
    "import matplotlib.pyplot as plt\n",
    "import seaborn as sns\n",
    "import pandas as pd\n",
    "from sklearn.utils import shuffle"
   ]
  },
  {
   "cell_type": "code",
   "execution_count": 2,
   "metadata": {
    "_cell_guid": "4ffa6327-3ca6-77e0-4bea-46abcd9b6457"
   },
   "outputs": [],
   "source": [
    "# Processing the data:\n",
    "\n",
    "def get_data():\n",
    "\ttitanic = pd.read_csv(\"../input/train_and_test2.csv\")\n",
    "\tdata = titanic.as_matrix()\n",
    "\tX = data[:,1:-1]\n",
    "\tY = data[:,-1]\n",
    "\tX[:,1] = (X[:,1]-X[:,1].mean())/X[:,1].std()\n",
    "\tX[:,0] = (X[:,0]-X[:,0].mean())/X[:,0].std()\n",
    "\tN, D = X.shape\n",
    "\tX2 = np.zeros((N,D))\n",
    "\tX2[:,0:3] = X[:,0:3]\n",
    "    \n",
    "\t# One-Hot-Encoding:\n",
    "\tfor n in range(N):\n",
    "\t\tt = int(X[n,D-3]) #Embarked\n",
    "\t\tt2 = int(X[n,D-6]) #pclass\n",
    "\t\tt3 = int(X[n,D-15]) #parch\n",
    "\t\tt4 = int(X[n,D-23]) #sibsp\n",
    "\t\tX2[n,t+D-3] = 1\n",
    "\t\tX2[n,t2+D-6] = 1\n",
    "\t\tX2[n,t3+D-15] = 1\n",
    "\t\tX2[n,t4+D-23] = 1\n",
    "\n",
    "\t\treturn X2, Y\n",
    "\n",
    "def get_binary_data():\n",
    "\tX, Y = get_data()\n",
    "\tX2 = X[Y <= 1]\n",
    "\tY2 = Y[Y <= 1]\n",
    "\treturn X2, Y2"
   ]
  },
  {
   "cell_type": "code",
   "execution_count": 3,
   "metadata": {
    "_cell_guid": "5f9759f6-f086-9ce1-4a69-1839408e1f89"
   },
   "outputs": [],
   "source": [
    "X, Y = get_binary_data()\n",
    "X, Y = shuffle(X,Y)\n",
    "\n",
    "Xtrain = X[0:891,:]\n",
    "Ytrain = Y[0:891]\n",
    "Xtest = X[-418:]\n",
    "Ytest = Y[-418:] # Which I manually put to be zero in every row!\n",
    "\n",
    "D = X.shape[1]\n",
    "W = np.random.randn(D)\n",
    "b = 0"
   ]
  },
  {
   "cell_type": "code",
   "execution_count": 4,
   "metadata": {
    "_cell_guid": "daa7e2d2-2887-85f6-0b32-17f2d2f83eff"
   },
   "outputs": [],
   "source": [
    "# Making some necessary functions:\n",
    "\n",
    "def sigmoid(z):\n",
    "\treturn 1/(1+np.exp(-z))\n",
    "\n",
    "def forward(X,W,b):\n",
    "\treturn sigmoid(X.dot(W)+b)\n",
    "\n",
    "def classification_rate(targets,predictions):\n",
    "\treturn np.mean(targets == predictions)\n",
    "\n",
    "def cross_entropy(T,pY):\n",
    "\treturn -np.mean(T*np.log(pY) + (1-T)*np.log(1-pY))"
   ]
  },
  {
   "cell_type": "code",
   "execution_count": 5,
   "metadata": {
    "_cell_guid": "90cb5dbb-c2ce-f479-893b-d4c41f5e733a"
   },
   "outputs": [],
   "source": [
    "# Logistic regression via gradient descent plus L2 regularization:\n",
    "\n",
    "train_costs = []\n",
    "test_costs = []\n",
    "learning_rate = 0.001\n",
    "\n",
    "for i in range(10000):\n",
    "\tpYtrain = forward(Xtrain,W,b)\n",
    "\tpYtest = forward(Xtest,W,b)\n",
    "\n",
    "\tctrain = cross_entropy(Ytrain,pYtrain)\n",
    "\tctest = cross_entropy(Ytest,pYtest)\n",
    "\ttrain_costs.append(ctrain)\n",
    "\ttest_costs.append(ctest)\n",
    "\n",
    "\tW -= learning_rate*(Xtrain.T.dot(pYtrain-Ytrain)-0.1*W)\n",
    "\tb -= learning_rate*(pYtrain-Ytrain).sum()"
   ]
  },
  {
   "cell_type": "code",
   "execution_count": 6,
   "metadata": {
    "_cell_guid": "144e3986-04b1-209b-f7b6-363a7cc04fd8"
   },
   "outputs": [
    {
     "data": {
      "image/png": "[encoded data removed]",
      "text/plain": [
       "<matplotlib.figure.Figure at 0x7f855fd160f0>"
      ]
     },
     "metadata": {},
     "output_type": "display_data"
    },
    {
     "name": "stdout",
     "output_type": "stream",
     "text": [
      "Final Train Classification Rate:  0.746352413019\n",
      "Final Test Classification Rate:  0.763157894737\n"
     ]
    }
   ],
   "source": [
    "# Displaying my model:\n",
    "\n",
    "legend1, = plt.plot(train_costs,label='Train Cost')\n",
    "legend2, = plt.plot(test_costs,label='Test Cost')\n",
    "plt.legend([legend1,legend2])\n",
    "plt.show()\n",
    "\n",
    "print(\"Final Train Classification Rate: \",classification_rate(Ytrain,np.round(pYtrain)))\n",
    "print(\"Final Test Classification Rate: \",classification_rate(Ytest,np.round(pYtest)))"
   ]
  }
 ],
 "metadata": {
  "_change_revision": 81,
  "_is_fork": false,
  "kernelspec": {
   "display_name": "Python 3 (ipykernel)",
   "language": "python",
   "name": "python3"
  },
  "language_info": {
   "codemirror_mode": {
    "name": "ipython",
    "version": 3
   },
   "file_extension": ".py",
   "mimetype": "text/x-python",
   "name": "python",
   "nbconvert_exporter": "python",
   "pygments_lexer": "ipython3",
   "version": "3.11.4"
  }
 },
 "nbformat": 4,
 "nbformat_minor": 1
}
